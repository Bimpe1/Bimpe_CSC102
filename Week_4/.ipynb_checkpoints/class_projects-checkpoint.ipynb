{
 "cells": [
  {
   "cell_type": "code",
   "execution_count": 20,
   "id": "669c12b9",
   "metadata": {},
   "outputs": [
    {
     "name": "stdout",
     "output_type": "stream",
     "text": [
      "    names  age  height  scores\n",
      "  Charles   15     5.7      85\n",
      "     Jude   16     5.9      74\n",
      "    James   16     5.8      87\n",
      "   Kelvin   17     6.1      75\n",
      "  Prosper   14     5.9      68\n",
      "The dataframe is written to the excel file successfully\n"
     ]
    }
   ],
   "source": [
    "import pandas as pd\n",
    "boys= {\n",
    "    \"names\":[\"Charles\",\"Jude\",\"James\",\"Kelvin\",\"Prosper\"],\n",
    "    \"age\" :[15,16,16,17,14],\n",
    "    \"height\" :[5.7,5.9,5.8,6.1,5.9],\n",
    "    \"scores\":[85,74,87,75,68]\n",
    "}\n",
    "girls={\n",
    "    \"names\":[\"Ann\",\"Jane\",\"Joanne\",\"Claire\",\"Elizabeth\"],\n",
    "    \"age\" :[14,16,14,17,16],\n",
    "    \"height\" :[5.5,6,5.4,5.9,5.6],\n",
    "    \"scores\":[85,74,87,75,68]\n",
    "}\n",
    "boysoutput=pd.DataFrame(boys,index=[\"\",\"\",\"\",\"\",\"\"])\n",
    "print(boysoutput)\n",
    "print(girlsoutput)\n",
    "#saving the table to the excel file created\n",
    "file_name = 'project_table.xlsx'\n",
    "boysoutput.to_excel(file_name)\n",
    "print('The dataframe is written to the excel file successfully')"
   ]
  },
  {
   "cell_type": "code",
   "execution_count": null,
   "id": "2b12faca",
   "metadata": {},
   "outputs": [],
   "source": []
  },
  {
   "cell_type": "code",
   "execution_count": null,
   "id": "7ef429e4",
   "metadata": {},
   "outputs": [],
   "source": []
  },
  {
   "cell_type": "code",
   "execution_count": null,
   "id": "c85a53c3",
   "metadata": {},
   "outputs": [],
   "source": []
  }
 ],
 "metadata": {
  "kernelspec": {
   "display_name": "Python 3",
   "language": "python",
   "name": "python3"
  },
  "language_info": {
   "codemirror_mode": {
    "name": "ipython",
    "version": 3
   },
   "file_extension": ".py",
   "mimetype": "text/x-python",
   "name": "python",
   "nbconvert_exporter": "python",
   "pygments_lexer": "ipython3",
   "version": "3.8.8"
  }
 },
 "nbformat": 4,
 "nbformat_minor": 5
}
