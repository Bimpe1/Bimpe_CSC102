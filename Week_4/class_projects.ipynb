{
 "cells": [
  {
   "cell_type": "code",
   "execution_count": 2,
   "id": "669c12b9",
   "metadata": {
    "scrolled": true
   },
   "outputs": [
    {
     "ename": "SyntaxError",
     "evalue": "invalid syntax (<ipython-input-2-dc00d8914ac1>, line 11)",
     "output_type": "error",
     "traceback": [
      "\u001b[1;36m  File \u001b[1;32m\"<ipython-input-2-dc00d8914ac1>\"\u001b[1;36m, line \u001b[1;32m11\u001b[0m\n\u001b[1;33m    \"height\" :[5.5,6,5.4,5.9,5.6],\u001b[0m\n\u001b[1;37m    ^\u001b[0m\n\u001b[1;31mSyntaxError\u001b[0m\u001b[1;31m:\u001b[0m invalid syntax\n"
     ]
    }
   ],
   "source": [
    "import pandas as pd\n",
    "boys= {\n",
    "    \"names\":[\"Charles\",\"Jude\",\"James\",\"Kelvin\",\"Prosper\"],\n",
    "    \"age\" :[15,16,16,17,14],\n",
    "    \"height\" :[5.7,5.9,5.8,6.1,5.9],\n",
    "    \"scores\":[85,74,87,75,68]\n",
    "}\n",
    "girls={\n",
    "    \"names\":[\"Ann\",\"Jane\",\"Joanne\",\"Claire\",\"Elizabeth\"],\n",
    "    \"age\" :[14,16,14,17,16],7\n",
    "    \"height\" :[5.5,6,5.4,5.9,5.6],\n",
    "    \"scores\":[85,74,87,75,68]\n",
    "}\n",
    "boysoutput=pd.DataFrame(boys,index=[\"\",\"\",\"\",\"\",\"\"])\n",
    "girlsoutput=pd.DataFrame(girls,index=[\"\",\"\",\"\",\"\",\"\"])\n",
    "print(boysoutput)\n",
    "print(girlsoutput)\n",
    "#saving the table to the excel file created\n",
    "file_name = 'project_table.xlsx'\n",
    "boysoutput.to_excel(file_name)\n",
    "girlsoutput.to_excel(file_name)\n",
    "print('The dataframe is written to the excel file successfully')"
   ]
  },
  {
   "cell_type": "code",
   "execution_count": 6,
   "id": "2b12faca",
   "metadata": {},
   "outputs": [],
   "source": [
    "from openpyxl import Workbook,load_workbook"
   ]
  },
  {
   "cell_type": "code",
   "execution_count": 8,
   "id": "7ef429e4",
   "metadata": {},
   "outputs": [],
   "source": [
    "wb = Workbook()"
   ]
  },
  {
   "cell_type": "code",
   "execution_count": 9,
   "id": "c85a53c3",
   "metadata": {},
   "outputs": [],
   "source": [
    "ws = wb.active"
   ]
  },
  {
   "cell_type": "code",
   "execution_count": 10,
   "id": "50b09103",
   "metadata": {},
   "outputs": [],
   "source": [
    "ws.title = ('Students_data')"
   ]
  },
  {
   "cell_type": "code",
   "execution_count": 14,
   "id": "ddd9692e",
   "metadata": {},
   "outputs": [],
   "source": [
    "ws.append(['NAME','CLASS'])\n",
    "ws.append(['NAME','CLASS'])\n",
    "ws.append(['NAME','CLASS'])\n",
    "ws.append(['NAME','CLASS'])\n",
    "ws.append(['NAME','CLASS'])\n",
    "ws.append(['NAME','CLASS'])\n",
    "ws.append(['NAME','CLASS'])\n",
    "ws.append(['NAME','CLASS'])"
   ]
  },
  {
   "cell_type": "code",
   "execution_count": 1,
   "id": "8748f15b",
   "metadata": {},
   "outputs": [
    {
     "ename": "NameError",
     "evalue": "name 'wb' is not defined",
     "output_type": "error",
     "traceback": [
      "\u001b[1;31m---------------------------------------------------------------------------\u001b[0m",
      "\u001b[1;31mNameError\u001b[0m                                 Traceback (most recent call last)",
      "\u001b[1;32m<ipython-input-1-9e7062167e14>\u001b[0m in \u001b[0;36m<module>\u001b[1;34m\u001b[0m\n\u001b[1;32m----> 1\u001b[1;33m \u001b[0mwb\u001b[0m\u001b[1;33m.\u001b[0m\u001b[0msave\u001b[0m\u001b[1;33m(\u001b[0m\u001b[1;34m\"table8.xlsx\"\u001b[0m\u001b[1;33m)\u001b[0m\u001b[1;33m\u001b[0m\u001b[1;33m\u001b[0m\u001b[0m\n\u001b[0m",
      "\u001b[1;31mNameError\u001b[0m: name 'wb' is not defined"
     ]
    }
   ],
   "source": [
    "wb.save(\"table8.xlsx\")"
   ]
  },
  {
   "cell_type": "code",
   "execution_count": 4,
   "id": "b5df2637",
   "metadata": {},
   "outputs": [
    {
     "ename": "SyntaxError",
     "evalue": "EOL while scanning string literal (<ipython-input-4-114c48e11f17>, line 5)",
     "output_type": "error",
     "traceback": [
      "\u001b[1;36m  File \u001b[1;32m\"<ipython-input-4-114c48e11f17>\"\u001b[1;36m, line \u001b[1;32m5\u001b[0m\n\u001b[1;33m    ws.append(['gj','tyjj])\u001b[0m\n\u001b[1;37m                           ^\u001b[0m\n\u001b[1;31mSyntaxError\u001b[0m\u001b[1;31m:\u001b[0m EOL while scanning string literal\n"
     ]
    }
   ],
   "source": [
    "from openpyxl import Workbook,load_workbook\n",
    "wb= Workbook()\n",
    "ws = wb.active\n",
    "ws.title =(\"jjj\")\n",
    "ws.append(['gj','tyjj])\n",
    "wb.save('table8.xlsx')"
   ]
  },
  {
   "cell_type": "code",
   "execution_count": null,
   "id": "bdd34da3",
   "metadata": {},
   "outputs": [],
   "source": []
  }
 ],
 "metadata": {
  "kernelspec": {
   "display_name": "Python 3",
   "language": "python",
   "name": "python3"
  },
  "language_info": {
   "codemirror_mode": {
    "name": "ipython",
    "version": 3
   },
   "file_extension": ".py",
   "mimetype": "text/x-python",
   "name": "python",
   "nbconvert_exporter": "python",
   "pygments_lexer": "ipython3",
   "version": "3.8.8"
  }
 },
 "nbformat": 4,
 "nbformat_minor": 5
}
