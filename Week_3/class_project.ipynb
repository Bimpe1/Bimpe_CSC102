{
 "cells": [
  {
   "cell_type": "markdown",
   "id": "e2074ddc",
   "metadata": {},
   "source": [
    "### Name: Adetoba Adebimpe\n",
    "### Matic number: 21120612445\n",
    "### Email: adebimpe.adetoba@pau.edu.ng\n",
    "\n",
    "\n",
    "\n",
    "\n",
    "## Project 1\n",
    "##### Pseudocode for project 1\n",
    "* START\n",
    "* INPUT number a\n",
    "* SUBTRACT the number by 17\n",
    "* IF a is greater than 17\n",
    "* MULTIPLY (a-17) by 2\n",
    "* PRINT\n",
    "* ELSE \n",
    "* RETURN the absolute difference between a and 17\n",
    "* END\n",
    "\n",
    "![image](images/project_1.jpg)"
   ]
  },
  {
   "cell_type": "code",
   "execution_count": 1,
   "id": "b9a4c818",
   "metadata": {},
   "outputs": [
    {
     "name": "stdout",
     "output_type": "stream",
     "text": [
      "input number:6\n",
      "11\n"
     ]
    }
   ],
   "source": [
    "a = int(input(\"input number:\"))\n",
    "b = (a-17)\n",
    "if a > 17:\n",
    "    print (b*2)\n",
    "else:\n",
    "    c = abs(b)\n",
    "    print(c)\n"
   ]
  },
  {
   "cell_type": "markdown",
   "id": "c9da4b9a",
   "metadata": {},
   "source": [
    "## Project 2\n",
    "##### Pseudocode for project 2\n",
    "* START\n",
    "* INPUT 3 numbers a,b and c\n",
    "* SUM the 3 numbers\n",
    "* IF a = b = c \n",
    "* MULTIPLY the sum by 3\n",
    "* ELSE\n",
    "* PRINT the sum of the numbers\n",
    "* END\n",
    "\n",
    "![image](images/project_2.jpg)"
   ]
  },
  {
   "cell_type": "code",
   "execution_count": 2,
   "id": "9884cc35",
   "metadata": {},
   "outputs": [
    {
     "name": "stdout",
     "output_type": "stream",
     "text": [
      "input 1st number:7\n",
      "input 2nd number:8\n",
      "input 3rd number:8\n",
      "23\n"
     ]
    }
   ],
   "source": [
    "a= int(input(\"input 1st number:\"))\n",
    "b= int(input(\"input 2nd number:\"))\n",
    "c= int(input(\"input 3rd number:\"))\n",
    "d=(a+b+c)\n",
    "if a == b == c:\n",
    "    e=(3*d)\n",
    "    print(e)\n",
    "else:\n",
    "    print(d)\n"
   ]
  },
  {
   "cell_type": "markdown",
   "id": "4279081a",
   "metadata": {},
   "source": [
    "## Project 3\n",
    "##### Pseudocode for project 3\n",
    "* START\n",
    "* INPUT 2 numbers a,b\n",
    "* IF a=b or a+b=5 or a-b=5\n",
    "* PRINT true\n",
    "* ELSE\n",
    "* PRINT FALSE\n",
    "* END\n",
    "\n",
    "![image](images/project_3.jpg)"
   ]
  },
  {
   "cell_type": "code",
   "execution_count": 3,
   "id": "6e05f173",
   "metadata": {},
   "outputs": [
    {
     "name": "stdout",
     "output_type": "stream",
     "text": [
      "Input 1st number:7\n",
      "Input 2nd number:8\n",
      "False\n"
     ]
    }
   ],
   "source": [
    "a= int(input(\"Input 1st number:\"))\n",
    "b= int(input(\"Input 2nd number:\"))\n",
    "if a==b or a+b==5 or a-b ==5:\n",
    "    print(\"True\")\n",
    "else:\n",
    "    print(\"False\")"
   ]
  },
  {
   "cell_type": "markdown",
   "id": "ee0dd3ab",
   "metadata": {},
   "source": [
    "## Project 4\n",
    "##### Pseudocode for project 4\n",
    "* START\n",
    "* INPUT 3 numbers a,b,c\n",
    "* KEEP the numbers\n",
    "* ADD the 3 numbers then subtract it from the maximum value stored and from the minimum values stored\n",
    "* PRINT maximum value, minimum vale, middle value\n",
    "* END\n",
    "\n",
    "![image](images/project_4.jpg)"
   ]
  },
  {
   "cell_type": "code",
   "execution_count": 4,
   "id": "5ae79eaa",
   "metadata": {},
   "outputs": [
    {
     "name": "stdout",
     "output_type": "stream",
     "text": [
      "Input 1st number:7\n",
      "Input 2nd number:6\n",
      "input 3rd number:5\n",
      "maximum =  7\n",
      "minimum =  5\n",
      "middle =  6\n"
     ]
    }
   ],
   "source": [
    "a= int(input(\"Input 1st number:\"))\n",
    "b= int(input(\"Input 2nd number:\"))\n",
    "c= int(input(\"input 3rd number:\"))\n",
    "d=(a,b,c)\n",
    "e= a+b+c-max(d)-min(d)\n",
    "print (\"maximum = \",max(d))\n",
    "print (\"minimum = \",min(d))\n",
    "print (\"middle = \",e)"
   ]
  },
  {
   "cell_type": "markdown",
   "id": "48a08abb",
   "metadata": {},
   "source": [
    "## Project 5\n",
    "##### Pseudocode for project 5\n",
    "* START\n",
    "* INPUT positive number a\n",
    "* SUM the cube of the positive numbers less than a\n",
    "* PRINT sum\n",
    "* END\n",
    "\n",
    "![image](images/project_5.jpg)"
   ]
  },
  {
   "cell_type": "code",
   "execution_count": 5,
   "id": "bc8a8335",
   "metadata": {},
   "outputs": [
    {
     "name": "stdout",
     "output_type": "stream",
     "text": [
      "Input a number:4\n",
      "Sum of cubes smaller than the specified number:  36\n"
     ]
    }
   ],
   "source": [
    "a=int(input(\"Input a number:\"))\n",
    "a -= 1\n",
    "total = 0\n",
    "while a > 0:\n",
    "   total += a * a * a\n",
    "   a -= 1\n",
    "print(\"Sum of cubes smaller than the specified number: \",total)"
   ]
  },
  {
   "cell_type": "code",
   "execution_count": null,
   "id": "92442648",
   "metadata": {},
   "outputs": [],
   "source": []
  },
  {
   "cell_type": "code",
   "execution_count": null,
   "id": "abe56249",
   "metadata": {},
   "outputs": [],
   "source": []
  }
 ],
 "metadata": {
  "kernelspec": {
   "display_name": "Python 3",
   "language": "python",
   "name": "python3"
  },
  "language_info": {
   "codemirror_mode": {
    "name": "ipython",
    "version": 3
   },
   "file_extension": ".py",
   "mimetype": "text/x-python",
   "name": "python",
   "nbconvert_exporter": "python",
   "pygments_lexer": "ipython3",
   "version": "3.8.8"
  }
 },
 "nbformat": 4,
 "nbformat_minor": 5
}
