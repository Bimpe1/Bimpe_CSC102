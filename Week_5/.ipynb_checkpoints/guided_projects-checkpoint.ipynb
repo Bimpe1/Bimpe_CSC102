{
 "cells": [
  {
   "cell_type": "markdown",
   "id": "e8fdc998",
   "metadata": {},
   "source": [
    "### Project 4"
   ]
  },
  {
   "cell_type": "code",
   "execution_count": 6,
   "id": "956a403a",
   "metadata": {},
   "outputs": [
    {
     "name": "stdout",
     "output_type": "stream",
     "text": [
      "Pls input the distance(miles)-50\n",
      "Pls input the time(hr)-2\n",
      "25.0 miles/hr\n"
     ]
    }
   ],
   "source": [
    "d = int(input(\"Pls input the distance(miles)-\"))\n",
    "t = int(input(\"Pls input the time(hr)-\"))\n",
    "s = (d/t)\n",
    "print(s,\"miles/hr\")"
   ]
  },
  {
   "cell_type": "markdown",
   "id": "0ca4cc4c",
   "metadata": {},
   "source": [
    "### Project 3"
   ]
  },
  {
   "cell_type": "code",
   "execution_count": 20,
   "id": "ea3a752d",
   "metadata": {},
   "outputs": [
    {
     "name": "stdout",
     "output_type": "stream",
     "text": [
      "throw ur number-3\n",
      "throw ur number2\n",
      "Jane wins this round\n"
     ]
    }
   ],
   "source": [
    "jack =int(input(\"Jack throw ur number-\"))\n",
    "jane = int(input(\"Jane throw ur number\"))\n",
    "sum = (jack+jane)\n",
    "if jack % 2 == sum % 2 and jane % 2 == sum % 2:\n",
    "    print(\"You both win\")\n",
    "elif jack % 2 != sum % 2 and jane % 2 == sum % 2:   \n",
    "    print(\"Jack wins this round\")\n",
    "elif jack % 2 == sum % 2 and jane % 2 != sum % 2:   \n",
    "    print(\"Jane wins this round\")\n",
    "else:\n",
    "    print(\"You both loose\")\n",
    "        "
   ]
  },
  {
   "cell_type": "code",
   "execution_count": null,
   "id": "f8ebd2f5",
   "metadata": {},
   "outputs": [],
   "source": []
  }
 ],
 "metadata": {
  "kernelspec": {
   "display_name": "Python 3",
   "language": "python",
   "name": "python3"
  },
  "language_info": {
   "codemirror_mode": {
    "name": "ipython",
    "version": 3
   },
   "file_extension": ".py",
   "mimetype": "text/x-python",
   "name": "python",
   "nbconvert_exporter": "python",
   "pygments_lexer": "ipython3",
   "version": "3.8.8"
  }
 },
 "nbformat": 4,
 "nbformat_minor": 5
}
