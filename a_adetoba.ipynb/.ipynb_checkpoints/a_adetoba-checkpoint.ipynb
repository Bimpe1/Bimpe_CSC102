{
 "cells": [
  {
   "cell_type": "markdown",
   "id": "96a76b72",
   "metadata": {},
   "source": [
    "## Name: Adetoba Adebimpe Temilolu\n",
    "## Matric no:21120612445"
   ]
  },
  {
   "cell_type": "markdown",
   "id": "a8423982",
   "metadata": {},
   "source": [
    "### Question 2"
   ]
  },
  {
   "cell_type": "code",
   "execution_count": 87,
   "id": "2f701416",
   "metadata": {},
   "outputs": [
    {
     "ename": "TypeError",
     "evalue": "'type' object is not iterable",
     "output_type": "error",
     "traceback": [
      "\u001b[1;31m---------------------------------------------------------------------------\u001b[0m",
      "\u001b[1;31mTypeError\u001b[0m                                 Traceback (most recent call last)",
      "\u001b[1;32m<ipython-input-87-35d96c612d48>\u001b[0m in \u001b[0;36m<module>\u001b[1;34m\u001b[0m\n\u001b[0;32m     15\u001b[0m \u001b[0mtotal\u001b[0m \u001b[1;33m=\u001b[0m \u001b[1;36m0\u001b[0m\u001b[1;33m\u001b[0m\u001b[1;33m\u001b[0m\u001b[0m\n\u001b[0;32m     16\u001b[0m \u001b[0msum\u001b[0m \u001b[1;33m=\u001b[0m \u001b[1;36m0\u001b[0m\u001b[1;33m\u001b[0m\u001b[1;33m\u001b[0m\u001b[0m\n\u001b[1;32m---> 17\u001b[1;33m \u001b[1;32mfor\u001b[0m \u001b[0ma\u001b[0m \u001b[1;32min\u001b[0m \u001b[0mlist\u001b[0m\u001b[1;33m:\u001b[0m\u001b[1;33m\u001b[0m\u001b[1;33m\u001b[0m\u001b[0m\n\u001b[0m\u001b[0;32m     18\u001b[0m     \u001b[1;32mif\u001b[0m \u001b[0masses\u001b[0m \u001b[1;33m<\u001b[0m \u001b[1;36m40\u001b[0m\u001b[1;33m:\u001b[0m\u001b[1;33m\u001b[0m\u001b[1;33m\u001b[0m\u001b[0m\n\u001b[0;32m     19\u001b[0m         \u001b[0mtotal\u001b[0m \u001b[1;33m=\u001b[0m \u001b[1;36m1\u001b[0m\u001b[1;33m\u001b[0m\u001b[1;33m\u001b[0m\u001b[0m\n",
      "\u001b[1;31mTypeError\u001b[0m: 'type' object is not iterable"
     ]
    }
   ],
   "source": [
    "from openpyxl import Workbook,load_workbook\n",
    "wb= Workbook()\n",
    "ws = wb.active\n",
    "ws.title =(\"Boston Consulting Group EMIS\")\n",
    "ws.append(['Employee Name','Years','Assesment Records','points','rewards'])\n",
    "ws.append(['Alegbe Luis',5,44.5,1])\n",
    "ws.append(['Anna Mabuta ',10,67.4,4])\n",
    "ws.append(['Karim Kafi',15,23.8,1])\n",
    "ws.append(['Esther Moses',8,71.1,5])\n",
    "ws.append(['Jonah Longe',4,50.3,3])\n",
    "ws.append(['Coins Fagbemi',20,63.3,4])\n",
    "wb.save('Question 2 table.xlsx')\n",
    "\n",
    "asses =(44.5,67.4,23.8,71.1,50.3,63.3)\n",
    "total = 0\n",
    "sum = 0\n",
    "for a in list:\n",
    "    if asses < 40:\n",
    "        total = 1\n",
    "        sum += 1\n",
    "    elif 39 < asses < 50 :\n",
    "        total = 2\n",
    "        sum +=2 \n",
    "    elif 49< asses < 60:\n",
    "        total = 3\n",
    "        sum += 3\n",
    "    elif 59 < asses < 70:\n",
    "        total = 4\n",
    "        sum += 4\n",
    "    elif asses > 69:\n",
    "        total = 5\n",
    "        sum += 5\n",
    "reward = (asses*sum)\n",
    "print(reward)"
   ]
  },
  {
   "cell_type": "markdown",
   "id": "b73695e4",
   "metadata": {},
   "source": [
    "### Question 1\n",
    "\n",
    "### Pseudocode \n",
    "####  INPUT name and quantity \n",
    "#### OUTPUT menu and prices\n",
    "#### ADD price\n",
    "#### IF price < 10000\n",
    "#### PRINT you get 10 percent\n",
    "#### IF price > 10000\n",
    "#### PRINT you get 15 percent\n",
    "#### IF price >15000\n",
    "#### PRINT you get 25 percent\n",
    "#### ELSE try again sometime\n",
    "#### END"
   ]
  },
  {
   "cell_type": "code",
   "execution_count": 108,
   "id": "dec9c35f",
   "metadata": {},
   "outputs": [
    {
     "ename": "SyntaxError",
     "evalue": "invalid syntax (<ipython-input-108-a260acdd188d>, line 5)",
     "output_type": "error",
     "traceback": [
      "\u001b[1;36m  File \u001b[1;32m\"<ipython-input-108-a260acdd188d>\"\u001b[1;36m, line \u001b[1;32m5\u001b[0m\n\u001b[1;33m    menu = (\"Poundo Yam/Edinkaiko soup-5500\", \"Fried Rice and Chicken-6000\",  \"Amala and Ewedu-4500\",\"Eba and Egusi Soup-4000\", \"White Rice and stew-4500\")\u001b[0m\n\u001b[1;37m    ^\u001b[0m\n\u001b[1;31mSyntaxError\u001b[0m\u001b[1;31m:\u001b[0m invalid syntax\n"
     ]
    }
   ],
   "source": [
    "def order():\n",
    "    name =input(\"pls input ur name-\")\n",
    "    order = input(\"What can I get for you?\")\n",
    "    quantity=input(\"how much food do u want?\"\n",
    "    menu = (\"Poundo Yam/Edinkaiko soup-5500\", \"Fried Rice and Chicken-6000\",  \"Amala and Ewedu-4500\",\"Eba and Egusi Soup-4000\", \"White Rice and stew-4500\")\n",
    "    print(\"this is the menu\", menu)\n",
    "if order in a :\n",
    "        print(\"That will be \"price)\n",
    "total += 0\n",
    "if price < 10000\n",
    "    print you get 10 percent\n",
    "if price > 10000\n",
    "    print you get 15 percent\n",
    "if price >15000\n",
    "    print you get 25 percent\n",
    "else \n",
    "     print(\"try again sometime\")\n",
    "order()"
   ]
  }
 ],
 "metadata": {
  "kernelspec": {
   "display_name": "Python 3",
   "language": "python",
   "name": "python3"
  },
  "language_info": {
   "codemirror_mode": {
    "name": "ipython",
    "version": 3
   },
   "file_extension": ".py",
   "mimetype": "text/x-python",
   "name": "python",
   "nbconvert_exporter": "python",
   "pygments_lexer": "ipython3",
   "version": "3.8.8"
  }
 },
 "nbformat": 4,
 "nbformat_minor": 5
}
